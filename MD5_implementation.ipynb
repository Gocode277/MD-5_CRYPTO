{
 "cells": [
  {
   "cell_type": "markdown",
   "metadata": {},
   "source": [
    "## Implementation of MD5 hashing algorithm\n",
    "### Based on wiki article and original paper\n",
    "Author: Mikołaj Koszowski 274392\\\n",
    "Date: 02.02.2020\n",
    "\n",
    "* https://en.wikipedia.org/wiki/MD5\n",
    "* https://www.ietf.org/rfc/rfc1321.txt\n",
    "\n",
    "Interesting comparison of different hash functions families:\n",
    "https://en.wikipedia.org/wiki/SHA-3#Comparison_of_SHA_functions"
   ]
  },
  {
   "cell_type": "markdown",
   "metadata": {},
   "source": [
    "\"The algorithm takes as input a message of arbitrary length and produces\n",
    "as output a 128-bit \"fingerprint\" or \"message digest\" of the input.\n",
    "It is conjectured that it is computationally infeasible to produce\n",
    "two messages having the same message digest, or to produce any\n",
    "message having a given prespecified target message digest. The MD5\n",
    "algorithm is intended for digital signature applications, where a\n",
    "large file must be \"compressed\" in a secure manner before being\n",
    "encrypted with a private (secret) key under a public-key cryptosystem\n",
    "such as RSA.\""
   ]
  },
  {
   "cell_type": "code",
   "execution_count": 1,
   "metadata": {},
   "outputs": [],
   "source": [
    "from bitarray import bitarray\n",
    "import struct\n",
    "\n",
    "def add_32(a,b):\n",
    "    return (a+b)% (2**32)\n",
    "\n",
    "#python bitwise operations\n",
    "#https://www.journaldev.com/26737/python-bitwise-operators\n",
    "#&AND; |OR; ^XOR;~Ones’ Compliment; <<LShift; >>RShift\n",
    "\n",
    "#Let X <<< s denote the 32-bit value obtained by circularly shifting (rotating) X left by s bit positions.\n",
    "#shift left n OR shift right (32-n)\n",
    "def rotate_left(x,n):\n",
    "    return (x<<n)| (x>>(32-n))"
   ]
  },
  {
   "cell_type": "markdown",
   "metadata": {},
   "source": [
    "## Definitions of four auxiliary functions for step_4\n",
    "Each take as input three 32-bit words and produce as output one 32-bit word.\n",
    "\n",
    "* F(X,Y,Z) = XY v not(X) Z\n",
    "* G(X,Y,Z) = XZ v Y not(Z)\n",
    "* H(X,Y,Z) = X xor Y xor Z\n",
    "* I(X,Y,Z) = Y xor (X v not(Z))"
   ]
  },
  {
   "cell_type": "code",
   "execution_count": 2,
   "metadata": {},
   "outputs": [],
   "source": [
    "def F(x,y,z):\n",
    "    return (x& y)| (~x& z)\n",
    "def G(x,y,z):\n",
    "    return (x& z)| (y& ~z)\n",
    "def H(x,y,z):\n",
    "    return x^y^z\n",
    "def I(x,y,z):\n",
    "    return y^ (x| ~z)"
   ]
  },
  {
   "cell_type": "markdown",
   "metadata": {},
   "source": [
    "## Definitions of tables for step_4\n",
    "\n",
    "**shift_amounts** specifies the per-round shift amounts\n",
    "\n",
    "**sine_table[i]** denote the i-th element of the table, which is equal to the integer part of \n",
    "\n",
    "(2\\*\\*32)\\*abs(sin(i)), where i is in radians."
   ]
  },
  {
   "cell_type": "code",
   "execution_count": 3,
   "metadata": {},
   "outputs": [],
   "source": [
    "SHIFT_AMOUNTS={\n",
    "    'round1': [7, 12, 17, 22],\n",
    "    'round2': [5,  9, 14, 20],\n",
    "    'round3': [4, 11, 16, 23],\n",
    "    'round4': [6, 10, 15, 21]\n",
    "}"
   ]
  },
  {
   "cell_type": "code",
   "execution_count": 4,
   "metadata": {},
   "outputs": [],
   "source": [
    "import math\n",
    "SINE_TABLE=[math.floor((2**32)* abs(math.sin(i + 1))) for i in range(64)]"
   ]
  },
  {
   "cell_type": "markdown",
   "metadata": {},
   "source": [
    "## Definitions of rounds for step_4"
   ]
  },
  {
   "cell_type": "code",
   "execution_count": 5,
   "metadata": {},
   "outputs": [],
   "source": [
    "round_index={\n",
    "    range(0 ,16):'round1',\n",
    "    range(16,32):'round2',\n",
    "    range(32,48):'round3',\n",
    "    range(48,64):'round4'\n",
    "}\n",
    "def get_round_index(i):\n",
    "    for k,v in round_index.items():\n",
    "        if i in k:\n",
    "            return v"
   ]
  },
  {
   "cell_type": "code",
   "execution_count": 6,
   "metadata": {},
   "outputs": [],
   "source": [
    "k1=lambda i: i\n",
    "k2=lambda i: ((5*i)+1)% 16\n",
    "k3=lambda i: ((3*i)+5)% 16\n",
    "k4=lambda i: (7*i)% 16\n",
    "\n",
    "round_funcs={\n",
    "    'round1':(k1,F),\n",
    "    'round2':(k2,G),\n",
    "    'round3':(k3,H),\n",
    "    'round4':(k4,I)\n",
    "}"
   ]
  },
  {
   "cell_type": "markdown",
   "metadata": {},
   "source": [
    "## 3.1 Step 1. Append Padding Bits\n",
    "\n",
    "   The message is \"padded\" (extended) so that its length (in bits) is\n",
    "   congruent to 448, modulo 512. That is, the message is extended so\n",
    "   that it is just 64 bits shy of being a multiple of 512 bits long.\n",
    "   Padding is always performed, even if the length of the message is\n",
    "   already congruent to 448, modulo 512.\n",
    "\n",
    "   Padding is performed as follows: a single \"1\" bit is appended to the\n",
    "   message, and then \"0\" bits are appended so that the length in bits of\n",
    "   the padded message becomes congruent to 448, modulo 512. In all, at\n",
    "   least one bit and at most 512 bits are appended.\n",
    "   \n",
    "##   3.2 Step 2. Append Length\n",
    "\n",
    "   A 64-bit representation of b (the length of the message before the\n",
    "   padding bits were added) is appended to the result of the previous\n",
    "   step. In the unlikely event that b is greater than 2^64, then only\n",
    "   the low-order 64 bits of b are used. (These bits are appended as two\n",
    "   32-bit words and appended low-order word first in accordance with the\n",
    "   previous conventions.)\n",
    "\n",
    "   At this point the resulting message (after padding with bits and with\n",
    "   b) has a length that is an exact multiple of 512 bits. Equivalently,\n",
    "   this message has a length that is an exact multiple of 16 (32-bit)\n",
    "   words. Let M[0 ... N-1] denote the words of the resulting message,\n",
    "   where N is a multiple of 16."
   ]
  },
  {
   "cell_type": "code",
   "execution_count": 7,
   "metadata": {},
   "outputs": [],
   "source": [
    "def step_1_padding(m_str):\n",
    "    m_array = bitarray(endian=\"big\")\n",
    "    m_array.frombytes(m_str.encode(\"utf-8\"))\n",
    "\n",
    "    m_array.append(1)\n",
    "    while len(m_array)% 512 != 448:\n",
    "        m_array.append(0)\n",
    "    \n",
    "    return bitarray(m_array, endian=\"little\")\n",
    "\n",
    "def step_2_concat_len(m_str,m_array):\n",
    "    length = (8*len(m_str))% (2**64)\n",
    "    \n",
    "    #https://stackoverflow.com/questions/42652436/how-to-convert-ctypes-to-bytes\n",
    "    #https://docs.python.org/3.7/library/struct.html\n",
    "    #Q: unsigned long long; < little; > big\n",
    "    appendix = bitarray(endian=\"little\")\n",
    "    appendix.frombytes(struct.pack(\"<Q\", length))\n",
    "\n",
    "    result = m_array.copy()\n",
    "    result.extend(appendix)\n",
    "    return result"
   ]
  },
  {
   "cell_type": "code",
   "execution_count": 8,
   "metadata": {},
   "outputs": [
    {
     "data": {
      "text/plain": [
       "(448,\n",
       " bitarray('1000011000000001000000000000000000000000000000000000000000000000000000000000000000000000000000000000000000000000000000000000000000000000000000000000000000000000000000000000000000000000000000000000000000000000000000000000000000000000000000000000000000000000000000000000000000000000000000000000000000000000000000000000000000000000000000000000000000000000000000000000000000000000000000000000000000000000000000000000000000000000000000000000000000000000'))"
      ]
     },
     "execution_count": 8,
     "metadata": {},
     "output_type": "execute_result"
    }
   ],
   "source": [
    "#a=01100001 (utf-8 binary)\n",
    "len(step_1_padding('a')),step_1_padding('a')"
   ]
  },
  {
   "cell_type": "code",
   "execution_count": 9,
   "metadata": {},
   "outputs": [
    {
     "data": {
      "text/plain": [
       "(512,\n",
       " bitarray('10000110000000010000000000000000000000000000000000000000000000000000000000000000000000000000000000000000000000000000000000000000000000000000000000000000000000000000000000000000000000000000000000000000000000000000000000000000000000000000000000000000000000000000000000000000000000000000000000000000000000000000000000000000000000000000000000000000000000000000000000000000000000000000000000000000000000000000000000000000000000000000000000000000000000000001000000000000000000000000000000000000000000000000000000000000'))"
      ]
     },
     "execution_count": 9,
     "metadata": {},
     "output_type": "execute_result"
    }
   ],
   "source": [
    "m_str='a'\n",
    "m_array=step_1_padding(m_str)\n",
    "len(step_2_concat_len(m_str,m_array)),step_2_concat_len(m_str,m_array)"
   ]
  },
  {
   "cell_type": "markdown",
   "metadata": {},
   "source": [
    "## 3.3 Step 3. Initialize MD Buffer\n",
    "\n",
    "   A four-word buffer (A,B,C,D) is used to compute the message digest.\n",
    "   Here each of A, B, C, D is a 32-bit register. These registers are\n",
    "   initialized to the following values in hexadecimal, low-order bytes\n",
    "   first):"
   ]
  },
  {
   "cell_type": "code",
   "execution_count": 10,
   "metadata": {},
   "outputs": [],
   "source": [
    "def step_3_init_state():\n",
    "    A = 0x67452301\n",
    "    B = 0xEFCDAB89\n",
    "    C = 0x98BADCFE\n",
    "    D = 0x10325476\n",
    "    #here simple dict with keys 'A','B','C','D' and following values\n",
    "    return {'A':A,'B':B,'C':C,'D':D}"
   ]
  },
  {
   "cell_type": "markdown",
   "metadata": {},
   "source": [
    "## 3.4 Step 4. Process Message in 16-Word Blocks"
   ]
  },
  {
   "cell_type": "code",
   "execution_count": 11,
   "metadata": {},
   "outputs": [],
   "source": [
    "def step_4_calc(state,m_padded):\n",
    "    #N is number of words\n",
    "    N = len(m_padded)// 32\n",
    "\n",
    "    #Chunks of 512 bits (32*16)\n",
    "    for ch_i in range(N// 16):\n",
    "        #ch_i*512: offset chunk; i offset word; 32 word length; 16 block length\n",
    "        X = [m_padded[((ch_i*512)+(i*32)):((ch_i*512)+(i*32)+32)] for i in range(16)]\n",
    "\n",
    "        #to int\n",
    "        X = [int.from_bytes(word.tobytes(), byteorder=\"little\") for word in X]\n",
    "\n",
    "        A = state['A']\n",
    "        B = state['B']\n",
    "        C = state['C']\n",
    "        D = state['D']\n",
    "\n",
    "        #4 rounds x 16 operations\n",
    "        for i in range(4*16):\n",
    "            round_index=get_round_index(i)\n",
    "            ki,FGHI=round_funcs.get(round_index)\n",
    "            \n",
    "            #shift array\n",
    "            s=SHIFT_AMOUNTS[round_index]\n",
    "            #value dependent on i\n",
    "            s_val=s[i % 4]\n",
    "            \n",
    "            #ki returns mod 16\n",
    "            k=ki(i)\n",
    "            #tmp value for one of F,G,H or I func\n",
    "            tmp=FGHI(B,C,D)\n",
    "\n",
    "            #tmp := tmp + A + SINE_TABLE[i] + Message[k]  // M[k] must be a 32-bits block\n",
    "            #consecutive addition\n",
    "            tmp = add_32(tmp, X[k])\n",
    "            tmp = add_32(tmp, SINE_TABLE[i])\n",
    "            tmp = add_32(tmp, A)\n",
    "            \n",
    "            #add B and rotate s_val\n",
    "            tmp = rotate_left(tmp, s_val)\n",
    "            tmp = add_32(tmp, B)\n",
    "\n",
    "            # rotate the registers one step\n",
    "            A = D\n",
    "            D = C\n",
    "            C = B\n",
    "            B = tmp\n",
    "\n",
    "        #update state\n",
    "        state['A'] = add_32(state['A'], A)\n",
    "        state['B'] = add_32(state['B'], B)\n",
    "        state['C'] = add_32(state['C'], C)\n",
    "        state['D'] = add_32(state['D'], D)\n",
    "        \n",
    "    return state"
   ]
  },
  {
   "cell_type": "markdown",
   "metadata": {},
   "source": [
    "## 3.5 Step 5. Output\n",
    "\n",
    "   The message digest produced as output is A, B, C, D. That is, we\n",
    "   begin with the low-order byte of A, and end with the high-order byte\n",
    "   of D.\n",
    "\n",
    "   This completes the description of MD5. A reference implementation in\n",
    "   C is given in the appendix."
   ]
  },
  {
   "cell_type": "code",
   "execution_count": 12,
   "metadata": {},
   "outputs": [],
   "source": [
    "def format_state_val(val):\n",
    "    F=struct.unpack(\"<I\",struct.pack(\">I\",val))[0]\n",
    "    return format(F, '08x')\n",
    "def step_5_print(out_state):\n",
    "    hex_strings=[format_state_val(out_state[k]) for k in ['A','B','C','D']]\n",
    "    return \"\".join(hex_strings)"
   ]
  },
  {
   "cell_type": "markdown",
   "metadata": {},
   "source": [
    "## MD5 hash function:"
   ]
  },
  {
   "cell_type": "code",
   "execution_count": 13,
   "metadata": {},
   "outputs": [],
   "source": [
    "def md5_hash(m_str):\n",
    "    m_array=step_1_padding(m_str)\n",
    "    m_padded=step_2_concat_len(m_str,m_array)\n",
    "    internal_state=step_3_init_state()\n",
    "    out_state=step_4_calc(internal_state,m_padded)\n",
    "    return step_5_print(out_state)"
   ]
  },
  {
   "cell_type": "markdown",
   "metadata": {},
   "source": [
    "## MD5 test suite from paper:\n",
    "* MD5 (\"\") = d41d8cd98f00b204e9800998ecf8427e\n",
    "* MD5 (\"a\") = 0cc175b9c0f1b6a831c399e269772661\n",
    "* MD5 (\"abc\") = 900150983cd24fb0d6963f7d28e17f72"
   ]
  },
  {
   "cell_type": "code",
   "execution_count": 14,
   "metadata": {},
   "outputs": [],
   "source": [
    "test_suite=[\n",
    "    ('d41d8cd98f00b204e9800998ecf8427e',\"\"),\n",
    "    ('0cc175b9c0f1b6a831c399e269772661',\"a\"),\n",
    "    ('900150983cd24fb0d6963f7d28e17f72', \"abc\"),\n",
    "    ('f96b697d7cb7938d525a2f31aaf161d0', \"message digest\"),\n",
    "    ('c3fcd3d76192e4007dfb496cca67e13b', \"abcdefghijklmnopqrstuvwxyz\"),\n",
    "    ('d174ab98d277d9f5a5611c2c9f419d9f', \n",
    "     \"ABCDEFGHIJKLMNOPQRSTUVWXYZabcdefghijklmnopqrstuvwxyz0123456789\"),\n",
    "    ('57edf4a22be3c955ac49da2e2107b67a',\n",
    "    \"12345678901234567890123456789012345678901234567890123456789012345678901234567890\")\n",
    "]"
   ]
  },
  {
   "cell_type": "code",
   "execution_count": 15,
   "metadata": {},
   "outputs": [],
   "source": [
    "for h,m_str in test_suite:\n",
    "    assert md5_hash(m_str) == h"
   ]
  },
  {
   "cell_type": "code",
   "execution_count": 16,
   "metadata": {},
   "outputs": [
    {
     "name": "stdout",
     "output_type": "stream",
     "text": [
      "d8e8fca2dc0f896fd7cb4cb0031ba249\n",
      "d8e8fca2dc0f896fd7cb4cb0031ba249\n"
     ]
    }
   ],
   "source": [
    "import hashlib\n",
    "#implementations in other languages https://rosettacode.org/wiki/MD5/Implementation\n",
    "print(hashlib.md5('test\\n'.encode()).hexdigest())\n",
    "print(md5_hash('test\\n'))"
   ]
  },
  {
   "cell_type": "code",
   "execution_count": null,
   "metadata": {},
   "outputs": [],
   "source": []
  }
 ],
 "metadata": {
  "kernelspec": {
   "display_name": "Python 3",
   "language": "python",
   "name": "python3"
  },
  "language_info": {
   "codemirror_mode": {
    "name": "ipython",
    "version": 3
   },
   "file_extension": ".py",
   "mimetype": "text/x-python",
   "name": "python",
   "nbconvert_exporter": "python",
   "pygments_lexer": "ipython3",
   "version": "3.7.3"
  }
 },
 "nbformat": 4,
 "nbformat_minor": 2
}
